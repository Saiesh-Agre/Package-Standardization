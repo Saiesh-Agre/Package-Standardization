{
 "cells": [
  {
   "cell_type": "code",
   "execution_count": 3,
   "id": "7a62ef9b-e1d8-4672-9271-47222d955b85",
   "metadata": {},
   "outputs": [],
   "source": [
    "import pandas as pd\n",
    "from sklearn.cluster import KMeans\n",
    "from sklearn.preprocessing import StandardScaler\n",
    "import matplotlib.pyplot as plt"
   ]
  },
  {
   "cell_type": "code",
   "execution_count": 4,
   "id": "04d89eb3-c7df-411e-a868-200d70dc541c",
   "metadata": {},
   "outputs": [
    {
     "data": {
      "text/html": [
       "<div>\n",
       "<style scoped>\n",
       "    .dataframe tbody tr th:only-of-type {\n",
       "        vertical-align: middle;\n",
       "    }\n",
       "\n",
       "    .dataframe tbody tr th {\n",
       "        vertical-align: top;\n",
       "    }\n",
       "\n",
       "    .dataframe thead th {\n",
       "        text-align: right;\n",
       "    }\n",
       "</style>\n",
       "<table border=\"1\" class=\"dataframe\">\n",
       "  <thead>\n",
       "    <tr style=\"text-align: right;\">\n",
       "      <th></th>\n",
       "      <th>index</th>\n",
       "      <th>Model</th>\n",
       "      <th>Depth</th>\n",
       "      <th>Width</th>\n",
       "      <th>Height</th>\n",
       "    </tr>\n",
       "  </thead>\n",
       "  <tbody>\n",
       "    <tr>\n",
       "      <th>0</th>\n",
       "      <td>0</td>\n",
       "      <td>RISH Xmer 62/W</td>\n",
       "      <td>40</td>\n",
       "      <td>62</td>\n",
       "      <td>78.0</td>\n",
       "    </tr>\n",
       "    <tr>\n",
       "      <th>1</th>\n",
       "      <td>1</td>\n",
       "      <td>RISH Xmer 74/W</td>\n",
       "      <td>45</td>\n",
       "      <td>74</td>\n",
       "      <td>98.0</td>\n",
       "    </tr>\n",
       "    <tr>\n",
       "      <th>2</th>\n",
       "      <td>2</td>\n",
       "      <td>RISH Xmer 45/14(40)</td>\n",
       "      <td>40</td>\n",
       "      <td>45</td>\n",
       "      <td>65.0</td>\n",
       "    </tr>\n",
       "    <tr>\n",
       "      <th>3</th>\n",
       "      <td>3</td>\n",
       "      <td>RISH Xmer 45/14(40)</td>\n",
       "      <td>40</td>\n",
       "      <td>45</td>\n",
       "      <td>65.0</td>\n",
       "    </tr>\n",
       "    <tr>\n",
       "      <th>4</th>\n",
       "      <td>4</td>\n",
       "      <td>RISH Xmer 50/14(30)</td>\n",
       "      <td>32</td>\n",
       "      <td>51</td>\n",
       "      <td>70.0</td>\n",
       "    </tr>\n",
       "    <tr>\n",
       "      <th>...</th>\n",
       "      <td>...</td>\n",
       "      <td>...</td>\n",
       "      <td>...</td>\n",
       "      <td>...</td>\n",
       "      <td>...</td>\n",
       "    </tr>\n",
       "    <tr>\n",
       "      <th>73</th>\n",
       "      <td>73</td>\n",
       "      <td>LTRC-6 195/130(40)</td>\n",
       "      <td>40</td>\n",
       "      <td>195</td>\n",
       "      <td>219.0</td>\n",
       "    </tr>\n",
       "    <tr>\n",
       "      <th>74</th>\n",
       "      <td>74</td>\n",
       "      <td>LTRC-7 230/165(40)</td>\n",
       "      <td>40</td>\n",
       "      <td>230</td>\n",
       "      <td>255.0</td>\n",
       "    </tr>\n",
       "    <tr>\n",
       "      <th>75</th>\n",
       "      <td>75</td>\n",
       "      <td>LTRC-8 295/200(40)</td>\n",
       "      <td>40</td>\n",
       "      <td>295</td>\n",
       "      <td>320.0</td>\n",
       "    </tr>\n",
       "    <tr>\n",
       "      <th>76</th>\n",
       "      <td>76</td>\n",
       "      <td>Sigma 75</td>\n",
       "      <td>70</td>\n",
       "      <td>75</td>\n",
       "      <td>113.0</td>\n",
       "    </tr>\n",
       "    <tr>\n",
       "      <th>77</th>\n",
       "      <td>77</td>\n",
       "      <td>Sigma 150</td>\n",
       "      <td>70</td>\n",
       "      <td>150</td>\n",
       "      <td>113.0</td>\n",
       "    </tr>\n",
       "  </tbody>\n",
       "</table>\n",
       "<p>78 rows × 5 columns</p>\n",
       "</div>"
      ],
      "text/plain": [
       "    index                Model  Depth  Width  Height\n",
       "0       0       RISH Xmer 62/W     40     62    78.0\n",
       "1       1       RISH Xmer 74/W     45     74    98.0\n",
       "2       2  RISH Xmer 45/14(40)     40     45    65.0\n",
       "3       3  RISH Xmer 45/14(40)     40     45    65.0\n",
       "4       4  RISH Xmer 50/14(30)     32     51    70.0\n",
       "..    ...                  ...    ...    ...     ...\n",
       "73     73   LTRC-6 195/130(40)     40    195   219.0\n",
       "74     74   LTRC-7 230/165(40)     40    230   255.0\n",
       "75     75   LTRC-8 295/200(40)     40    295   320.0\n",
       "76     76             Sigma 75     70     75   113.0\n",
       "77     77            Sigma 150     70    150   113.0\n",
       "\n",
       "[78 rows x 5 columns]"
      ]
     },
     "execution_count": 4,
     "metadata": {},
     "output_type": "execute_result"
    }
   ],
   "source": [
    "# Load the CSV file\n",
    "data = pd.read_csv('/Users/saieshagre/Downloads/Package Standardization/altered_data.csv')\n",
    "# data = data.drop_duplicates(subset=['Height', 'Width', 'Depth'], keep='first')\n",
    "# data.sort_values(by = ['Height', 'Width', 'Depth'], inplace = True)\n",
    "data.reset_index()"
   ]
  },
  {
   "cell_type": "code",
   "execution_count": 5,
   "id": "392df65a-a2fa-4f53-b662-9f96a6b718ce",
   "metadata": {},
   "outputs": [],
   "source": [
    "dimensions = data[['Depth', 'Width', 'Height']]\n",
    "scaler = StandardScaler()\n",
    "scaled_dim = scaler.fit_transform(dimensions)"
   ]
  },
  {
   "cell_type": "code",
   "execution_count": 6,
   "id": "163e3437-e7fe-4dc9-bbfb-28b28be9175a",
   "metadata": {},
   "outputs": [],
   "source": [
    "# Elbow method to find the optimal number of clusters\n",
    "inertia = []\n",
    "k_range = range(1, 30)\n",
    "for k in k_range:\n",
    "    kmeans = KMeans(n_clusters=k, random_state=42)\n",
    "    kmeans.fit(scaled_dim)\n",
    "    inertia.append(kmeans.inertia_)"
   ]
  },
  {
   "cell_type": "code",
   "execution_count": 7,
   "id": "1416c93b-c211-46cd-a3a2-52282d8794a4",
   "metadata": {},
   "outputs": [
    {
     "data": {
      "image/png": "[encoded data removed]",
      "text/plain": [
       "<Figure size 800x600 with 1 Axes>"
      ]
     },
     "metadata": {},
     "output_type": "display_data"
    }
   ],
   "source": [
    "# Plot the elbow curve\n",
    "plt.figure(figsize=(8, 6))\n",
    "plt.plot(k_range, inertia, marker='o')\n",
    "plt.title('Elbow Method for Optimal k')\n",
    "plt.xlabel('Number of Clusters (k)')\n",
    "plt.ylabel('Inertia')\n",
    "plt.xticks(k_range)\n",
    "plt.grid(True)\n",
    "plt.show()"
   ]
  },
  {
   "cell_type": "code",
   "execution_count": 8,
   "id": "740348bd-b43b-4b56-99fa-782f2c3fcc48",
   "metadata": {},
   "outputs": [
    {
     "name": "stdin",
     "output_type": "stream",
     "text": [
      "Enter the number of clusters:  23\n"
     ]
    }
   ],
   "source": [
    "# User-defined number of clusters\n",
    "num_clusters = int(input(\"Enter the number of clusters: \"))"
   ]
  },
  {
   "cell_type": "code",
   "execution_count": 9,
   "id": "05c36607-2eeb-467b-aeaa-ae97a4a3eecc",
   "metadata": {},
   "outputs": [],
   "source": [
    "# Apply KMeans clustering\n",
    "kmeans = KMeans(n_clusters = num_clusters, random_state=42)\n",
    "data['Cluster'] = kmeans.fit_predict(scaled_dim)"
   ]
  },
  {
   "cell_type": "code",
   "execution_count": 10,
   "id": "ef001ea9-fad0-420f-bf91-c4621851af5a",
   "metadata": {},
   "outputs": [],
   "source": [
    "# Organize the output\n",
    "clustered_df = data[['Model', 'Depth', 'Width', 'Height', 'Cluster']]"
   ]
  },
  {
   "cell_type": "code",
   "execution_count": 11,
   "id": "7fe15565-ae0b-4bde-a993-4b33f22b4134",
   "metadata": {},
   "outputs": [],
   "source": [
    "# Calculate the maximum dimension for each cluster\n",
    "max_dims = clustered_df.groupby('Cluster').agg({\n",
    "    'Depth': 'max',\n",
    "    'Width': 'max',\n",
    "    'Height': 'max'\n",
    "}).rename(columns={\n",
    "    'Depth': 'Max_Depth',\n",
    "    'Width': 'Max_Width',\n",
    "    'Height': 'Max_Height'\n",
    "})"
   ]
  },
  {
   "cell_type": "code",
   "execution_count": 12,
   "id": "a24108fc-84cb-4828-bf68-883ebd915165",
   "metadata": {},
   "outputs": [],
   "source": [
    "clustered_df = clustered_df.merge(max_dims, on='Cluster')\n",
    "clustered_df.sort_values(by = ['Cluster'], inplace = True)"
   ]
  },
  {
   "cell_type": "code",
   "execution_count": 13,
   "id": "322ce314-4861-4324-be2a-90c533448cb6",
   "metadata": {},
   "outputs": [],
   "source": [
    "clustered_df['Volume_Difference_Percentage'] = (\n",
    "    ((clustered_df['Max_Depth'] * clustered_df['Max_Width'] * clustered_df['Max_Height'] - clustered_df['Depth'] * clustered_df['Width'] * clustered_df['Height']) / \n",
    "     (clustered_df['Max_Depth'] * clustered_df['Max_Width'] * clustered_df['Max_Height'])) * 100\n",
    ").round(2)"
   ]
  },
  {
   "cell_type": "code",
   "execution_count": 14,
   "id": "d7e1f5e4-e27a-42ec-9c2a-74ad822f8fad",
   "metadata": {},
   "outputs": [],
   "source": [
    "# Step 4: Calculate the average percentage difference per cluster\n",
    "average_percent_diff_per_cluster = clustered_df.groupby('Cluster')['Volume_Difference_Percentage'].mean().round(2).reset_index()\n",
    "\n",
    "# Rename column for clarity\n",
    "average_percent_diff_per_cluster.columns = ['Cluster', 'Average_Volume_Diff_Percentage']\n",
    "\n",
    "# Step 5: Merge the average percentage difference back into the original DataFrame\n",
    "clustered_df = clustered_df.merge(average_percent_diff_per_cluster, on='Cluster', how='left')"
   ]
  },
  {
   "cell_type": "code",
   "execution_count": 15,
   "id": "6cf089f8-f7c8-4b37-b215-c35c35f80e22",
   "metadata": {},
   "outputs": [
    {
     "data": {
      "text/plain": [
       "8.370869565217392"
      ]
     },
     "execution_count": 15,
     "metadata": {},
     "output_type": "execute_result"
    }
   ],
   "source": [
    "average_diff_across_cluster = clustered_df['Average_Volume_Diff_Percentage'].unique().sum() / num_clusters\n",
    "average_diff_across_cluster"
   ]
  },
  {
   "cell_type": "code",
   "execution_count": 16,
   "id": "4c3372d7-d789-47a6-825c-97bfcbb216be",
   "metadata": {},
   "outputs": [],
   "source": [
    "rows = []\n",
    "for cluster, group in clustered_df.groupby('Cluster'):\n",
    "    rows.append(group)  # Add the rows for the current cluster\n",
    "    rows.append(pd.DataFrame([[''] * len(clustered_df.columns)], columns=clustered_df.columns))  # Add a blank row\n",
    "\n",
    "# Concatenate all rows into a new DataFrame\n",
    "clustered_df = pd.concat(rows, ignore_index=True)"
   ]
  },
  {
   "cell_type": "code",
   "execution_count": 17,
   "id": "c92b06fd-002d-48de-9b9c-74a8a231b00a",
   "metadata": {},
   "outputs": [],
   "source": [
    "clustered_df.to_csv('/Users/saieshagre/Downloads/Package Standardization/clustered.csv')"
   ]
  },
  {
   "cell_type": "code",
   "execution_count": null,
   "id": "cc03d574-410c-4c41-b2cd-96cc4c745d4a",
   "metadata": {},
   "outputs": [],
   "source": []
  },
  {
   "cell_type": "code",
   "execution_count": null,
   "id": "3e65ac3a-efd7-42d6-8abc-1641d8f9de84",
   "metadata": {},
   "outputs": [],
   "source": []
  }
 ],
 "metadata": {
  "kernelspec": {
   "display_name": "Python 3 (ipykernel)",
   "language": "python",
   "name": "python3"
  },
  "language_info": {
   "codemirror_mode": {
    "name": "ipython",
    "version": 3
   },
   "file_extension": ".py",
   "mimetype": "text/x-python",
   "name": "python",
   "nbconvert_exporter": "python",
   "pygments_lexer": "ipython3",
   "version": "3.12.1"
  }
 },
 "nbformat": 4,
 "nbformat_minor": 5
}
